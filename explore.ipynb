{
 "cells": [
  {
   "cell_type": "code",
   "execution_count": 1,
   "metadata": {},
   "outputs": [],
   "source": [
    "import requests"
   ]
  },
  {
   "cell_type": "code",
   "execution_count": 3,
   "metadata": {},
   "outputs": [],
   "source": [
    "response  = requests.get(\"https://api.chucknorris.io/jokes/random\")"
   ]
  },
  {
   "cell_type": "code",
   "execution_count": 17,
   "metadata": {},
   "outputs": [],
   "source": [
    "\n",
    "js = response.json()"
   ]
  },
  {
   "cell_type": "code",
   "execution_count": 20,
   "metadata": {},
   "outputs": [
    {
     "data": {
      "text/plain": [
       "'Ozzy Osbourne bites the heads off of bats. Chuck Norris bites the heads off of Siberian Tigers.'"
      ]
     },
     "execution_count": 20,
     "metadata": {},
     "output_type": "execute_result"
    }
   ],
   "source": [
    "js[\"value\"]"
   ]
  },
  {
   "cell_type": "code",
   "execution_count": 21,
   "metadata": {},
   "outputs": [],
   "source": [
    "import boto3\n",
    "translate_client = boto3.client('translate')"
   ]
  },
  {
   "cell_type": "code",
   "execution_count": 23,
   "metadata": {},
   "outputs": [],
   "source": [
    "review_text = js[\"value\"]"
   ]
  },
  {
   "cell_type": "code",
   "execution_count": 24,
   "metadata": {},
   "outputs": [],
   "source": [
    "translate_response = translate_client.translate_text(\n",
    "        Text=review_text,\n",
    "        SourceLanguageCode='en',\n",
    "        TargetLanguageCode='pt'\n",
    "    )"
   ]
  },
  {
   "cell_type": "code",
   "execution_count": 25,
   "metadata": {},
   "outputs": [
    {
     "name": "stdout",
     "output_type": "stream",
     "text": [
      "{'TranslatedText': 'Ozzy Osbourne arranca as cabeças dos morcegos. Chuck Norris arranca as cabeças dos Tigres Siberianos.', 'SourceLanguageCode': 'en', 'TargetLanguageCode': 'pt', 'ResponseMetadata': {'RequestId': '40982f3a-0e5e-4ccc-a325-2450bb597ffc', 'HTTPStatusCode': 200, 'HTTPHeaders': {'x-amzn-requestid': '40982f3a-0e5e-4ccc-a325-2450bb597ffc', 'cache-control': 'no-cache', 'content-type': 'application/x-amz-json-1.1', 'content-length': '176', 'date': 'Mon, 08 Aug 2022 00:17:02 GMT'}, 'RetryAttempts': 0}}\n"
     ]
    }
   ],
   "source": [
    "print(translate_response)"
   ]
  }
 ],
 "metadata": {
  "kernelspec": {
   "display_name": "Python 3.9.13 64-bit (windows store)",
   "language": "python",
   "name": "python3"
  },
  "language_info": {
   "codemirror_mode": {
    "name": "ipython",
    "version": 3
   },
   "file_extension": ".py",
   "mimetype": "text/x-python",
   "name": "python",
   "nbconvert_exporter": "python",
   "pygments_lexer": "ipython3",
   "version": "3.9.13"
  },
  "orig_nbformat": 4,
  "vscode": {
   "interpreter": {
    "hash": "03eb706f8aa4d899c8c9b0e2945deb40236fe7d5c93a9f252dc4dc5663d5c51f"
   }
  }
 },
 "nbformat": 4,
 "nbformat_minor": 2
}
